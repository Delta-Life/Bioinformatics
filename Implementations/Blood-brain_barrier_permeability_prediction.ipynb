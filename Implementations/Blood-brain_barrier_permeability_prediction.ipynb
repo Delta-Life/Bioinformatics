{
  "nbformat": 4,
  "nbformat_minor": 0,
  "metadata": {
    "colab": {
      "provenance": []
    },
    "kernelspec": {
      "name": "python3",
      "display_name": "Python 3"
    },
    "language_info": {
      "name": "python"
    },
    "accelerator": "GPU",
    "gpuClass": "standard"
  },
  "cells": [
    {
      "cell_type": "code",
      "source": [
        "import torch"
      ],
      "metadata": {
        "id": "nDuz4EHS6S_s"
      },
      "execution_count": 1,
      "outputs": []
    },
    {
      "cell_type": "code",
      "source": [
        "torch.__version__"
      ],
      "metadata": {
        "colab": {
          "base_uri": "https://localhost:8080/",
          "height": 37
        },
        "id": "W7yYPHn56aJz",
        "outputId": "1e069fc0-a936-4275-da99-a60684abebfb"
      },
      "execution_count": 2,
      "outputs": [
        {
          "output_type": "execute_result",
          "data": {
            "text/plain": [
              "'1.12.1+cu113'"
            ],
            "application/vnd.google.colaboratory.intrinsic+json": {
              "type": "string"
            }
          },
          "metadata": {},
          "execution_count": 2
        }
      ]
    },
    {
      "cell_type": "code",
      "source": [
        "!pip -q install rdkit-pypi\n",
        "!pip install torch-scatter torch-sparse torch-cluster torch-spline-conv torch-geometric -f https://data.pyg.org/whl/torch-1.12.1+cu113.html\n",
        "!pip install ogb"
      ],
      "metadata": {
        "colab": {
          "base_uri": "https://localhost:8080/"
        },
        "id": "3jqYkAVs6gTY",
        "outputId": "a441dff5-1303-4238-e5ff-e338b0ba570f"
      },
      "execution_count": 3,
      "outputs": [
        {
          "output_type": "stream",
          "name": "stdout",
          "text": [
            "Looking in indexes: https://pypi.org/simple, https://us-python.pkg.dev/colab-wheels/public/simple/\n",
            "Looking in links: https://data.pyg.org/whl/torch-1.12.1+cu113.html\n",
            "Requirement already satisfied: torch-scatter in /usr/local/lib/python3.7/dist-packages (2.1.0+pt112cu113)\n",
            "Requirement already satisfied: torch-sparse in /usr/local/lib/python3.7/dist-packages (0.6.15+pt112cu113)\n",
            "Requirement already satisfied: torch-cluster in /usr/local/lib/python3.7/dist-packages (1.6.0+pt112cu113)\n",
            "Requirement already satisfied: torch-spline-conv in /usr/local/lib/python3.7/dist-packages (1.2.1+pt112cu113)\n",
            "Requirement already satisfied: torch-geometric in /usr/local/lib/python3.7/dist-packages (2.1.0.post1)\n",
            "Requirement already satisfied: scipy in /usr/local/lib/python3.7/dist-packages (from torch-sparse) (1.7.3)\n",
            "Requirement already satisfied: numpy in /usr/local/lib/python3.7/dist-packages (from torch-geometric) (1.21.6)\n",
            "Requirement already satisfied: jinja2 in /usr/local/lib/python3.7/dist-packages (from torch-geometric) (2.11.3)\n",
            "Requirement already satisfied: tqdm in /usr/local/lib/python3.7/dist-packages (from torch-geometric) (4.64.1)\n",
            "Requirement already satisfied: pyparsing in /usr/local/lib/python3.7/dist-packages (from torch-geometric) (3.0.9)\n",
            "Requirement already satisfied: scikit-learn in /usr/local/lib/python3.7/dist-packages (from torch-geometric) (1.0.2)\n",
            "Requirement already satisfied: requests in /usr/local/lib/python3.7/dist-packages (from torch-geometric) (2.23.0)\n",
            "Requirement already satisfied: MarkupSafe>=0.23 in /usr/local/lib/python3.7/dist-packages (from jinja2->torch-geometric) (2.0.1)\n",
            "Requirement already satisfied: idna<3,>=2.5 in /usr/local/lib/python3.7/dist-packages (from requests->torch-geometric) (2.10)\n",
            "Requirement already satisfied: chardet<4,>=3.0.2 in /usr/local/lib/python3.7/dist-packages (from requests->torch-geometric) (3.0.4)\n",
            "Requirement already satisfied: certifi>=2017.4.17 in /usr/local/lib/python3.7/dist-packages (from requests->torch-geometric) (2022.9.24)\n",
            "Requirement already satisfied: urllib3!=1.25.0,!=1.25.1,<1.26,>=1.21.1 in /usr/local/lib/python3.7/dist-packages (from requests->torch-geometric) (1.24.3)\n",
            "Requirement already satisfied: threadpoolctl>=2.0.0 in /usr/local/lib/python3.7/dist-packages (from scikit-learn->torch-geometric) (3.1.0)\n",
            "Requirement already satisfied: joblib>=0.11 in /usr/local/lib/python3.7/dist-packages (from scikit-learn->torch-geometric) (1.2.0)\n",
            "Looking in indexes: https://pypi.org/simple, https://us-python.pkg.dev/colab-wheels/public/simple/\n",
            "Requirement already satisfied: ogb in /usr/local/lib/python3.7/dist-packages (1.3.5)\n",
            "Requirement already satisfied: numpy>=1.16.0 in /usr/local/lib/python3.7/dist-packages (from ogb) (1.21.6)\n",
            "Requirement already satisfied: outdated>=0.2.0 in /usr/local/lib/python3.7/dist-packages (from ogb) (0.2.2)\n",
            "Requirement already satisfied: tqdm>=4.29.0 in /usr/local/lib/python3.7/dist-packages (from ogb) (4.64.1)\n",
            "Requirement already satisfied: scikit-learn>=0.20.0 in /usr/local/lib/python3.7/dist-packages (from ogb) (1.0.2)\n",
            "Requirement already satisfied: urllib3>=1.24.0 in /usr/local/lib/python3.7/dist-packages (from ogb) (1.24.3)\n",
            "Requirement already satisfied: pandas>=0.24.0 in /usr/local/lib/python3.7/dist-packages (from ogb) (1.3.5)\n",
            "Requirement already satisfied: six>=1.12.0 in /usr/local/lib/python3.7/dist-packages (from ogb) (1.15.0)\n",
            "Requirement already satisfied: torch>=1.6.0 in /usr/local/lib/python3.7/dist-packages (from ogb) (1.12.1+cu113)\n",
            "Requirement already satisfied: littleutils in /usr/local/lib/python3.7/dist-packages (from outdated>=0.2.0->ogb) (0.2.2)\n",
            "Requirement already satisfied: requests in /usr/local/lib/python3.7/dist-packages (from outdated>=0.2.0->ogb) (2.23.0)\n",
            "Requirement already satisfied: setuptools>=44 in /usr/local/lib/python3.7/dist-packages (from outdated>=0.2.0->ogb) (57.4.0)\n",
            "Requirement already satisfied: python-dateutil>=2.7.3 in /usr/local/lib/python3.7/dist-packages (from pandas>=0.24.0->ogb) (2.8.2)\n",
            "Requirement already satisfied: pytz>=2017.3 in /usr/local/lib/python3.7/dist-packages (from pandas>=0.24.0->ogb) (2022.6)\n",
            "Requirement already satisfied: joblib>=0.11 in /usr/local/lib/python3.7/dist-packages (from scikit-learn>=0.20.0->ogb) (1.2.0)\n",
            "Requirement already satisfied: threadpoolctl>=2.0.0 in /usr/local/lib/python3.7/dist-packages (from scikit-learn>=0.20.0->ogb) (3.1.0)\n",
            "Requirement already satisfied: scipy>=1.1.0 in /usr/local/lib/python3.7/dist-packages (from scikit-learn>=0.20.0->ogb) (1.7.3)\n",
            "Requirement already satisfied: typing-extensions in /usr/local/lib/python3.7/dist-packages (from torch>=1.6.0->ogb) (4.1.1)\n",
            "Requirement already satisfied: idna<3,>=2.5 in /usr/local/lib/python3.7/dist-packages (from requests->outdated>=0.2.0->ogb) (2.10)\n",
            "Requirement already satisfied: chardet<4,>=3.0.2 in /usr/local/lib/python3.7/dist-packages (from requests->outdated>=0.2.0->ogb) (3.0.4)\n",
            "Requirement already satisfied: certifi>=2017.4.17 in /usr/local/lib/python3.7/dist-packages (from requests->outdated>=0.2.0->ogb) (2022.9.24)\n"
          ]
        }
      ]
    },
    {
      "cell_type": "code",
      "execution_count": 4,
      "metadata": {
        "id": "AZkhnGgl5QKn"
      },
      "outputs": [],
      "source": [
        "from torch.nn import Linear, ReLU\n",
        "from torch_geometric.nn import Sequential, GATConv, SAGEConv, GCNConv\n",
        "from torch_geometric.loader import DataLoader\n",
        "from torch_geometric.data import Data\n",
        "from sklearn.metrics import f1_score\n",
        "from sklearn.metrics import roc_curve\n",
        "from sklearn.metrics import auc\n",
        "\n",
        "\n",
        "import numpy as np\n",
        "import pandas as pd\n",
        "import matplotlib.pyplot as plt\n",
        "import warnings\n",
        "from rdkit import Chem\n",
        "from rdkit import RDLogger\n",
        "from rdkit.Chem.Draw import IPythonConsole\n",
        "from rdkit.Chem.Draw import MolsToGridImage"
      ]
    },
    {
      "cell_type": "code",
      "source": [
        "!wget https://deepchemdata.s3-us-west-1.amazonaws.com/datasets/BBBP.csv"
      ],
      "metadata": {
        "colab": {
          "base_uri": "https://localhost:8080/"
        },
        "id": "zPYKW1wF8kVJ",
        "outputId": "ef3c38bc-d5bd-4849-8d7d-3a902bc995f5"
      },
      "execution_count": 5,
      "outputs": [
        {
          "output_type": "stream",
          "name": "stdout",
          "text": [
            "--2022-11-28 02:08:42--  https://deepchemdata.s3-us-west-1.amazonaws.com/datasets/BBBP.csv\n",
            "Resolving deepchemdata.s3-us-west-1.amazonaws.com (deepchemdata.s3-us-west-1.amazonaws.com)... 52.219.193.2\n",
            "Connecting to deepchemdata.s3-us-west-1.amazonaws.com (deepchemdata.s3-us-west-1.amazonaws.com)|52.219.193.2|:443... connected.\n",
            "HTTP request sent, awaiting response... 200 OK\n",
            "Length: 148743 (145K) [text/csv]\n",
            "Saving to: ‘BBBP.csv.3’\n",
            "\n",
            "BBBP.csv.3          100%[===================>] 145.26K   317KB/s    in 0.5s    \n",
            "\n",
            "2022-11-28 02:08:43 (317 KB/s) - ‘BBBP.csv.3’ saved [148743/148743]\n",
            "\n"
          ]
        }
      ]
    },
    {
      "cell_type": "code",
      "source": [
        "df = pd.read_csv(\"./BBBP.csv\", usecols=[1, 2, 3])\n",
        "df.head()"
      ],
      "metadata": {
        "colab": {
          "base_uri": "https://localhost:8080/",
          "height": 204
        },
        "id": "uW-akCmn81g6",
        "outputId": "bd1c821f-07b8-49c3-dfaf-a8096231c3fd"
      },
      "execution_count": 6,
      "outputs": [
        {
          "output_type": "execute_result",
          "data": {
            "text/plain": [
              "                   name  p_np  \\\n",
              "0            Propanolol     1   \n",
              "1  Terbutylchlorambucil     1   \n",
              "2                 40730     1   \n",
              "3                    24     1   \n",
              "4           cloxacillin     1   \n",
              "\n",
              "                                              smiles  \n",
              "0                   [Cl].CC(C)NCC(O)COc1cccc2ccccc12  \n",
              "1           C(=O)(OC(C)(C)C)CCCc1ccc(cc1)N(CCCl)CCCl  \n",
              "2  c12c3c(N4CCN(C)CC4)c(F)cc1c(c(C(O)=O)cn2C(C)CO...  \n",
              "3                   C1CCN(CC1)Cc1cccc(c1)OCCCNC(=O)C  \n",
              "4  Cc1onc(c2ccccc2Cl)c1C(=O)N[C@H]3[C@H]4SC(C)(C)...  "
            ],
            "text/html": [
              "\n",
              "  <div id=\"df-90bc7a8d-e225-43c1-8783-aab1bf30d760\">\n",
              "    <div class=\"colab-df-container\">\n",
              "      <div>\n",
              "<style scoped>\n",
              "    .dataframe tbody tr th:only-of-type {\n",
              "        vertical-align: middle;\n",
              "    }\n",
              "\n",
              "    .dataframe tbody tr th {\n",
              "        vertical-align: top;\n",
              "    }\n",
              "\n",
              "    .dataframe thead th {\n",
              "        text-align: right;\n",
              "    }\n",
              "</style>\n",
              "<table border=\"1\" class=\"dataframe\">\n",
              "  <thead>\n",
              "    <tr style=\"text-align: right;\">\n",
              "      <th></th>\n",
              "      <th>name</th>\n",
              "      <th>p_np</th>\n",
              "      <th>smiles</th>\n",
              "    </tr>\n",
              "  </thead>\n",
              "  <tbody>\n",
              "    <tr>\n",
              "      <th>0</th>\n",
              "      <td>Propanolol</td>\n",
              "      <td>1</td>\n",
              "      <td>[Cl].CC(C)NCC(O)COc1cccc2ccccc12</td>\n",
              "    </tr>\n",
              "    <tr>\n",
              "      <th>1</th>\n",
              "      <td>Terbutylchlorambucil</td>\n",
              "      <td>1</td>\n",
              "      <td>C(=O)(OC(C)(C)C)CCCc1ccc(cc1)N(CCCl)CCCl</td>\n",
              "    </tr>\n",
              "    <tr>\n",
              "      <th>2</th>\n",
              "      <td>40730</td>\n",
              "      <td>1</td>\n",
              "      <td>c12c3c(N4CCN(C)CC4)c(F)cc1c(c(C(O)=O)cn2C(C)CO...</td>\n",
              "    </tr>\n",
              "    <tr>\n",
              "      <th>3</th>\n",
              "      <td>24</td>\n",
              "      <td>1</td>\n",
              "      <td>C1CCN(CC1)Cc1cccc(c1)OCCCNC(=O)C</td>\n",
              "    </tr>\n",
              "    <tr>\n",
              "      <th>4</th>\n",
              "      <td>cloxacillin</td>\n",
              "      <td>1</td>\n",
              "      <td>Cc1onc(c2ccccc2Cl)c1C(=O)N[C@H]3[C@H]4SC(C)(C)...</td>\n",
              "    </tr>\n",
              "  </tbody>\n",
              "</table>\n",
              "</div>\n",
              "      <button class=\"colab-df-convert\" onclick=\"convertToInteractive('df-90bc7a8d-e225-43c1-8783-aab1bf30d760')\"\n",
              "              title=\"Convert this dataframe to an interactive table.\"\n",
              "              style=\"display:none;\">\n",
              "        \n",
              "  <svg xmlns=\"http://www.w3.org/2000/svg\" height=\"24px\"viewBox=\"0 0 24 24\"\n",
              "       width=\"24px\">\n",
              "    <path d=\"M0 0h24v24H0V0z\" fill=\"none\"/>\n",
              "    <path d=\"M18.56 5.44l.94 2.06.94-2.06 2.06-.94-2.06-.94-.94-2.06-.94 2.06-2.06.94zm-11 1L8.5 8.5l.94-2.06 2.06-.94-2.06-.94L8.5 2.5l-.94 2.06-2.06.94zm10 10l.94 2.06.94-2.06 2.06-.94-2.06-.94-.94-2.06-.94 2.06-2.06.94z\"/><path d=\"M17.41 7.96l-1.37-1.37c-.4-.4-.92-.59-1.43-.59-.52 0-1.04.2-1.43.59L10.3 9.45l-7.72 7.72c-.78.78-.78 2.05 0 2.83L4 21.41c.39.39.9.59 1.41.59.51 0 1.02-.2 1.41-.59l7.78-7.78 2.81-2.81c.8-.78.8-2.07 0-2.86zM5.41 20L4 18.59l7.72-7.72 1.47 1.35L5.41 20z\"/>\n",
              "  </svg>\n",
              "      </button>\n",
              "      \n",
              "  <style>\n",
              "    .colab-df-container {\n",
              "      display:flex;\n",
              "      flex-wrap:wrap;\n",
              "      gap: 12px;\n",
              "    }\n",
              "\n",
              "    .colab-df-convert {\n",
              "      background-color: #E8F0FE;\n",
              "      border: none;\n",
              "      border-radius: 50%;\n",
              "      cursor: pointer;\n",
              "      display: none;\n",
              "      fill: #1967D2;\n",
              "      height: 32px;\n",
              "      padding: 0 0 0 0;\n",
              "      width: 32px;\n",
              "    }\n",
              "\n",
              "    .colab-df-convert:hover {\n",
              "      background-color: #E2EBFA;\n",
              "      box-shadow: 0px 1px 2px rgba(60, 64, 67, 0.3), 0px 1px 3px 1px rgba(60, 64, 67, 0.15);\n",
              "      fill: #174EA6;\n",
              "    }\n",
              "\n",
              "    [theme=dark] .colab-df-convert {\n",
              "      background-color: #3B4455;\n",
              "      fill: #D2E3FC;\n",
              "    }\n",
              "\n",
              "    [theme=dark] .colab-df-convert:hover {\n",
              "      background-color: #434B5C;\n",
              "      box-shadow: 0px 1px 3px 1px rgba(0, 0, 0, 0.15);\n",
              "      filter: drop-shadow(0px 1px 2px rgba(0, 0, 0, 0.3));\n",
              "      fill: #FFFFFF;\n",
              "    }\n",
              "  </style>\n",
              "\n",
              "      <script>\n",
              "        const buttonEl =\n",
              "          document.querySelector('#df-90bc7a8d-e225-43c1-8783-aab1bf30d760 button.colab-df-convert');\n",
              "        buttonEl.style.display =\n",
              "          google.colab.kernel.accessAllowed ? 'block' : 'none';\n",
              "\n",
              "        async function convertToInteractive(key) {\n",
              "          const element = document.querySelector('#df-90bc7a8d-e225-43c1-8783-aab1bf30d760');\n",
              "          const dataTable =\n",
              "            await google.colab.kernel.invokeFunction('convertToInteractive',\n",
              "                                                     [key], {});\n",
              "          if (!dataTable) return;\n",
              "\n",
              "          const docLinkHtml = 'Like what you see? Visit the ' +\n",
              "            '<a target=\"_blank\" href=https://colab.research.google.com/notebooks/data_table.ipynb>data table notebook</a>'\n",
              "            + ' to learn more about interactive tables.';\n",
              "          element.innerHTML = '';\n",
              "          dataTable['output_type'] = 'display_data';\n",
              "          await google.colab.output.renderOutput(dataTable, element);\n",
              "          const docLink = document.createElement('div');\n",
              "          docLink.innerHTML = docLinkHtml;\n",
              "          element.appendChild(docLink);\n",
              "        }\n",
              "      </script>\n",
              "    </div>\n",
              "  </div>\n",
              "  "
            ]
          },
          "metadata": {},
          "execution_count": 6
        }
      ]
    },
    {
      "cell_type": "code",
      "source": [
        "class Featurizer:\n",
        "    def __init__(self, allowable_sets):\n",
        "        self.dim = 0\n",
        "        self.features_mapping = {}\n",
        "        for k, s in allowable_sets.items():\n",
        "            s = sorted(list(s))\n",
        "            self.features_mapping[k] = dict(zip(s, range(self.dim, len(s) + self.dim)))\n",
        "            self.dim += len(s)\n",
        "\n",
        "    def encode(self, inputs):\n",
        "        output = np.zeros((self.dim,))\n",
        "        for name_feature, feature_mapping in self.features_mapping.items():\n",
        "            feature = getattr(self, name_feature)(inputs)\n",
        "            if feature not in feature_mapping:\n",
        "                continue\n",
        "            output[feature_mapping[feature]] = 1.0\n",
        "        return output\n",
        "\n",
        "\n",
        "class AtomFeaturizer(Featurizer):\n",
        "    def __init__(self, allowable_sets):\n",
        "        super().__init__(allowable_sets)\n",
        "\n",
        "    def symbol(self, atom):\n",
        "        return atom.GetSymbol()\n",
        "\n",
        "    def n_valence(self, atom):\n",
        "        return atom.GetTotalValence()\n",
        "\n",
        "    def n_hydrogens(self, atom):\n",
        "        return atom.GetTotalNumHs()\n",
        "\n",
        "    def hybridization(self, atom):\n",
        "        return atom.GetHybridization().name.lower()\n",
        "\n",
        "\n",
        "class BondFeaturizer(Featurizer):\n",
        "    def __init__(self, allowable_sets):\n",
        "        super().__init__(allowable_sets)\n",
        "        self.dim += 1\n",
        "\n",
        "    def encode(self, bond):\n",
        "        output = np.zeros((self.dim,))\n",
        "        if bond is None:\n",
        "            output[-1] = 1.0\n",
        "            return output\n",
        "        output = super().encode(bond)\n",
        "        return output\n",
        "\n",
        "    def bond_type(self, bond):\n",
        "        return bond.GetBondType().name.lower()\n",
        "\n",
        "    def conjugated(self, bond):\n",
        "        return bond.GetIsConjugated()\n",
        "\n",
        "\n",
        "atom_featurizer = AtomFeaturizer(\n",
        "    allowable_sets={\n",
        "        \"symbol\": {\"B\", \"Br\", \"C\", \"Ca\", \"Cl\", \"F\", \"H\", \"I\", \"N\", \"Na\", \"O\", \"P\", \"S\"},\n",
        "        \"n_valence\": {0, 1, 2, 3, 4, 5, 6},\n",
        "        \"n_hydrogens\": {0, 1, 2, 3, 4},\n",
        "        \"hybridization\": {\"s\", \"sp\", \"sp2\", \"sp3\"},\n",
        "    }\n",
        ")\n",
        "\n",
        "bond_featurizer = BondFeaturizer(\n",
        "    allowable_sets={\n",
        "        \"bond_type\": {\"single\", \"double\", \"triple\", \"aromatic\"},\n",
        "        \"conjugated\": {True, False},\n",
        "    }\n",
        ")"
      ],
      "metadata": {
        "id": "I_CddxBx9PwR"
      },
      "execution_count": 7,
      "outputs": []
    },
    {
      "cell_type": "code",
      "source": [
        "def molecule_from_smiles(smiles):\n",
        "    molecule = Chem.MolFromSmiles(smiles, sanitize=False)\n",
        "\n",
        "    flag = Chem.SanitizeMol(molecule, catchErrors=True)\n",
        "    if flag != Chem.SanitizeFlags.SANITIZE_NONE:\n",
        "        Chem.SanitizeMol(molecule, sanitizeOps=Chem.SanitizeFlags.SANITIZE_ALL ^ flag)\n",
        "\n",
        "    Chem.AssignStereochemistry(molecule, cleanIt=True, force=True)\n",
        "    return molecule\n",
        "\n",
        "\n",
        "def graph_from_molecule(molecule):\n",
        "    atom_features = []\n",
        "    bond_features = []\n",
        "    pair_indices = []\n",
        "\n",
        "    for atom in molecule.GetAtoms():\n",
        "        atom_features.append(atom_featurizer.encode(atom))\n",
        "\n",
        "        pair_indices.append([atom.GetIdx(), atom.GetIdx()])\n",
        "        bond_features.append(bond_featurizer.encode(None))\n",
        "\n",
        "        for neighbor in atom.GetNeighbors():\n",
        "            bond = molecule.GetBondBetweenAtoms(atom.GetIdx(), neighbor.GetIdx())\n",
        "            pair_indices.append([atom.GetIdx(), neighbor.GetIdx()])\n",
        "            bond_features.append(bond_featurizer.encode(bond))\n",
        "\n",
        "    return np.array(atom_features), np.array(bond_features), np.array(pair_indices)\n",
        "\n",
        "\n",
        "def graphs_from_smiles(smiles_list, Y):\n",
        "    data_list = []\n",
        "\n",
        "    for smiles, y in zip(smiles_list, Y):\n",
        "        molecule = molecule_from_smiles(smiles)\n",
        "        atom_features, bond_features, pair_indices = graph_from_molecule(molecule)\n",
        "        atom_features = torch.tensor(atom_features, dtype=torch.float32)\n",
        "        bond_features = torch.tensor(bond_features, dtype=torch.float32)\n",
        "        pair_indices = torch.tensor(pair_indices, dtype=torch.long)\n",
        "        y = torch.tensor(y, dtype=torch.long)\n",
        "        pair_indices = pair_indices.T\n",
        "\n",
        "        data_list.append(Data(x=atom_features, edge_index=pair_indices, edge_attr=bond_features, y=y, num_nodes=atom_features.shape[0]))\n",
        "\n",
        "    return data_list\n",
        "\n",
        "\n",
        "permuted_indices = np.random.permutation(np.arange(df.shape[0]))\n",
        "\n",
        "train_index = permuted_indices[: int(df.shape[0] * 0.8)]\n",
        "train_data = graphs_from_smiles(df.iloc[train_index].smiles, df.iloc[train_index].p_np)\n",
        "\n",
        "valid_index = permuted_indices[int(df.shape[0] * 0.8) : int(df.shape[0] * 0.9)]\n",
        "valid_data = graphs_from_smiles(df.iloc[valid_index].smiles, df.iloc[valid_index].p_np)\n",
        "\n",
        "test_index = permuted_indices[int(df.shape[0] * 0.9) :]\n",
        "test_data = graphs_from_smiles(df.iloc[test_index].smiles, df.iloc[test_index].p_np)\n",
        "\n",
        "train_loader = DataLoader(train_data, batch_size=32, shuffle=True)\n",
        "valid_loader = DataLoader(valid_data, batch_size=32, shuffle=True)\n",
        "test_loader = DataLoader(test_data, batch_size=32, shuffle=True)"
      ],
      "metadata": {
        "id": "eScUg7zZedBi"
      },
      "execution_count": 8,
      "outputs": []
    },
    {
      "cell_type": "code",
      "source": [
        "num = 1\n",
        "print(f\"Name:\\t{df.name[num]}\\nSMILES:\\t{df.smiles[num]}\\nBBBP:\\t{df.p_np[num]}\")\n",
        "molecule = molecule_from_smiles(df.iloc[num].smiles)\n",
        "print(\"Molecule:\")\n",
        "molecule"
      ],
      "metadata": {
        "colab": {
          "base_uri": "https://localhost:8080/",
          "height": 235
        },
        "id": "tPwGTECC9tiL",
        "outputId": "cd887f6b-eb26-450c-c042-8779d40b218a"
      },
      "execution_count": 9,
      "outputs": [
        {
          "output_type": "stream",
          "name": "stdout",
          "text": [
            "Name:\tTerbutylchlorambucil\n",
            "SMILES:\tC(=O)(OC(C)(C)C)CCCc1ccc(cc1)N(CCCl)CCCl\n",
            "BBBP:\t1\n",
            "Molecule:\n"
          ]
        },
        {
          "output_type": "execute_result",
          "data": {
            "text/plain": [
              "<rdkit.Chem.rdchem.Mol at 0x7f1657c52ed0>"
            ],
            "image/png": "[encoded data removed]"
          },
          "metadata": {},
          "execution_count": 9
        }
      ]
    },
    {
      "cell_type": "code",
      "source": [
        "from torch_geometric.graphgym import AtomEncoder\n",
        "from torch_geometric.nn import global_add_pool, global_mean_pool\n",
        "\n",
        "class GAT_Model(torch.nn.Module):\n",
        "    def __init__(self, hidden_dim, output_dim):\n",
        "        super(GAT_Model, self).__init__()\n",
        "\n",
        "        self.node_encoder = Linear(29, hidden_dim)\n",
        "        \n",
        "        self.GAT_Convs = torch.nn.ModuleList(\n",
        "            [GATConv(hidden_dim, hidden_dim, )] +\n",
        "            [GATConv(hidden_dim, hidden_dim)] +\n",
        "            [GATConv(hidden_dim, hidden_dim)]\n",
        "        )\n",
        "\n",
        "        self.bns = torch.nn.ModuleList(\n",
        "            [torch.nn.BatchNorm1d(num_features=hidden_dim) for _ in range(3)]\n",
        "        )\n",
        "\n",
        "        self.pool = global_mean_pool\n",
        "\n",
        "        self.linear = Linear(hidden_dim, output_dim)\n",
        "        self.ReLU = ReLU()\n",
        "        self.Sigmoid = torch.nn.Sigmoid()\n",
        "\n",
        "    def forward(self, batched_data):\n",
        "\n",
        "    \n",
        "        x, edge_index, batch = batched_data.x, batched_data.edge_index, batched_data.batch\n",
        "        x = self.node_encoder(x)\n",
        "\n",
        "        for i in range(len(self.bns)):\n",
        "          x = self.GAT_Convs[i](x, edge_index)\n",
        "          x = self.bns[i](x)\n",
        "          x = self.ReLU(x)\n",
        "        x = self.GAT_Convs[-1](x, edge_index)\n",
        "        pooled = self.pool(x, batch)\n",
        "        out = self.linear(pooled)\n",
        "        out = self.Sigmoid(out)\n",
        "\n",
        "        return out"
      ],
      "metadata": {
        "id": "ouVlyDO9Jgjb",
        "colab": {
          "base_uri": "https://localhost:8080/"
        },
        "outputId": "53743c5c-899e-444f-d260-90e82b35edaa"
      },
      "execution_count": 10,
      "outputs": [
        {
          "output_type": "stream",
          "name": "stderr",
          "text": [
            "/usr/local/lib/python3.7/dist-packages/torch_geometric/graphgym/config.py:19: UserWarning: Could not define global config object. Please install 'yacs' for using the GraphGym experiment manager via 'pip install yacs'.\n",
            "  warnings.warn(\"Could not define global config object. Please install \"\n",
            "/usr/local/lib/python3.7/dist-packages/torch_geometric/graphgym/imports.py:14: UserWarning: Please install 'pytorch_lightning' for using the GraphGym experiment manager via 'pip install pytorch_lightning'\n",
            "  warnings.warn(\"Please install 'pytorch_lightning' for using the GraphGym \"\n",
            "/usr/local/lib/python3.7/dist-packages/torch_geometric/graphgym/logger.py:23: UserWarning: Please install 'pytorch_lightning' for using the GraphGym experiment manager via 'pip install pytorch_lightning'\n",
            "  warnings.warn(\"Please install 'pytorch_lightning' for using the GraphGym \"\n"
          ]
        }
      ]
    },
    {
      "cell_type": "code",
      "source": [
        "model = GAT_Model(30, 1)\n",
        "optimizer = torch.optim.Adam(model.parameters(), lr=0.0005)\n",
        "loss_fn = torch.nn.BCEWithLogitsLoss()"
      ],
      "metadata": {
        "id": "dh5gjyeEJrq-"
      },
      "execution_count": 11,
      "outputs": []
    },
    {
      "cell_type": "code",
      "source": [
        "import copy\n",
        "\n",
        "epochs = 200\n",
        "best_valid_acc = 0\n",
        "best_model = copy.deepcopy(model)\n",
        "for epoch in range(1, epochs+1):\n",
        "  pred_y = []\n",
        "  true_y = []\n",
        "  valid_pred_y = []\n",
        "  valid_true_y = []\n",
        "\n",
        "  loss_sum = 0\n",
        "  for batch in train_loader:\n",
        "    out = model(batch)\n",
        "    optimizer.zero_grad()\n",
        "    loss = loss_fn(out.view(-1), batch.y.float())\n",
        "    loss.backward()\n",
        "    optimizer.step()\n",
        "    pred_y.extend(out.view(-1).detach().numpy())\n",
        "    true_y.extend(batch.y.float().numpy())\n",
        "    loss_sum += loss.item()\n",
        "  for batch in valid_loader:\n",
        "    out = model(batch)\n",
        "    valid_pred_y.extend(out.view(-1).detach().numpy())\n",
        "    valid_true_y.extend(batch.y.float().numpy())\n",
        "  \n",
        "  if f1_score(valid_true_y, np.round(valid_pred_y)) > best_valid_acc:\n",
        "    best_valid_acc = f1_score(valid_true_y, np.round(valid_pred_y))\n",
        "    best_model = copy.deepcopy(model)\n",
        "\n",
        "  if epoch % 10 == 0:\n",
        "    print(f\"[Epoch: {epoch:3d}/{epochs}] [Loss: {loss_sum:.6f}] [F1 score on train dataset: {f1_score(true_y, np.round(pred_y)):6f}] [F1 score on valid dataset: {f1_score(valid_true_y, np.round(valid_pred_y)):6f}]\" )"
      ],
      "metadata": {
        "colab": {
          "base_uri": "https://localhost:8080/"
        },
        "id": "ytEiwhpMVAyJ",
        "outputId": "7798874f-4b37-41a3-fc2b-834bb22bb13c"
      },
      "execution_count": 12,
      "outputs": [
        {
          "output_type": "stream",
          "name": "stdout",
          "text": [
            "[Epoch:  10/200] [Loss: 25.233879] [F1 score on train dataset: 0.912726] [F1 score on valid dataset: 0.913433]\n",
            "[Epoch:  20/200] [Loss: 24.580544] [F1 score on train dataset: 0.922718] [F1 score on valid dataset: 0.905775]\n",
            "[Epoch:  30/200] [Loss: 24.392262] [F1 score on train dataset: 0.927188] [F1 score on valid dataset: 0.908012]\n",
            "[Epoch:  40/200] [Loss: 24.182164] [F1 score on train dataset: 0.933333] [F1 score on valid dataset: 0.907463]\n",
            "[Epoch:  50/200] [Loss: 23.891335] [F1 score on train dataset: 0.937427] [F1 score on valid dataset: 0.894260]\n",
            "[Epoch:  60/200] [Loss: 23.919633] [F1 score on train dataset: 0.935409] [F1 score on valid dataset: 0.898810]\n",
            "[Epoch:  70/200] [Loss: 23.864015] [F1 score on train dataset: 0.934324] [F1 score on valid dataset: 0.907463]\n",
            "[Epoch:  80/200] [Loss: 23.728965] [F1 score on train dataset: 0.939759] [F1 score on valid dataset: 0.900901]\n",
            "[Epoch:  90/200] [Loss: 23.845014] [F1 score on train dataset: 0.938474] [F1 score on valid dataset: 0.899083]\n",
            "[Epoch: 100/200] [Loss: 23.668412] [F1 score on train dataset: 0.940902] [F1 score on valid dataset: 0.900901]\n",
            "[Epoch: 110/200] [Loss: 23.629489] [F1 score on train dataset: 0.937720] [F1 score on valid dataset: 0.900302]\n",
            "[Epoch: 120/200] [Loss: 23.400443] [F1 score on train dataset: 0.941870] [F1 score on valid dataset: 0.890909]\n",
            "[Epoch: 130/200] [Loss: 23.559364] [F1 score on train dataset: 0.944857] [F1 score on valid dataset: 0.905199]\n",
            "[Epoch: 140/200] [Loss: 23.343898] [F1 score on train dataset: 0.946499] [F1 score on valid dataset: 0.892966]\n",
            "[Epoch: 150/200] [Loss: 23.225498] [F1 score on train dataset: 0.948527] [F1 score on valid dataset: 0.903030]\n",
            "[Epoch: 160/200] [Loss: 23.355326] [F1 score on train dataset: 0.948688] [F1 score on valid dataset: 0.885449]\n",
            "[Epoch: 170/200] [Loss: 23.288008] [F1 score on train dataset: 0.947782] [F1 score on valid dataset: 0.886154]\n",
            "[Epoch: 180/200] [Loss: 23.294685] [F1 score on train dataset: 0.945999] [F1 score on valid dataset: 0.903614]\n",
            "[Epoch: 190/200] [Loss: 23.355750] [F1 score on train dataset: 0.948445] [F1 score on valid dataset: 0.886850]\n",
            "[Epoch: 200/200] [Loss: 23.365854] [F1 score on train dataset: 0.947658] [F1 score on valid dataset: 0.910180]\n"
          ]
        }
      ]
    },
    {
      "cell_type": "code",
      "source": [
        "valid_pred_y = []\n",
        "valid_true_y = []\n",
        "\n",
        "for batch in valid_loader:\n",
        "  out = best_model(batch)\n",
        "  valid_pred_y.extend(out.view(-1).detach().numpy())\n",
        "  valid_true_y.extend(batch.y.float().numpy())\n",
        "\n",
        "fpr, tpr, threshould = roc_curve(valid_true_y, valid_pred_y)\n",
        "plt.plot(\n",
        "    fpr,\n",
        "    tpr,\n",
        "    color=\"darkorange\",\n",
        "    label=\"ROC curve (area = %0.2f)\" % auc(fpr, tpr)\n",
        ")\n",
        "plt.plot([0, 1], [0, 1], color=\"navy\", linestyle=\"--\")\n",
        "plt.xlim([0.0, 1.0])\n",
        "plt.ylim([0.0, 1.0])\n",
        "plt.xlabel(\"False Positive Rate\")\n",
        "plt.ylabel(\"True Positive Rate\")\n",
        "plt.title(\"ROC of the best model on validation dataset\")\n",
        "plt.legend(loc=\"lower right\")\n",
        "plt.show()"
      ],
      "metadata": {
        "colab": {
          "base_uri": "https://localhost:8080/",
          "height": 295
        },
        "id": "GFKbYy3mVjjI",
        "outputId": "3d6543e2-a143-4ac6-fc5a-b5c45290af41"
      },
      "execution_count": 13,
      "outputs": [
        {
          "output_type": "display_data",
          "data": {
            "text/plain": [
              "<Figure size 432x288 with 1 Axes>"
            ],
            "image/png": "[encoded data removed]"
          },
          "metadata": {
            "needs_background": "light"
          }
        }
      ]
    },
    {
      "cell_type": "code",
      "source": [
        "test_pred_y = []\n",
        "test_true_y = []\n",
        "\n",
        "for batch in test_loader:\n",
        "  out = best_model(batch)\n",
        "  test_pred_y.extend(out.view(-1).detach().numpy())\n",
        "  test_true_y.extend(batch.y.float().numpy())\n",
        "\n",
        "fpr, tpr, threshould = roc_curve(test_true_y, test_pred_y)\n",
        "plt.plot(\n",
        "    fpr,\n",
        "    tpr,\n",
        "    color=\"darkorange\",\n",
        "    label=\"ROC curve (area = %0.2f)\" % auc(fpr, tpr)\n",
        ")\n",
        "plt.plot([0, 1], [0, 1], color=\"navy\", linestyle=\"--\")\n",
        "plt.xlim([0.0, 1.0])\n",
        "plt.ylim([0.0, 1.0])\n",
        "plt.xlabel(\"False Positive Rate\")\n",
        "plt.ylabel(\"True Positive Rate\")\n",
        "plt.title(\"ROC of the best model on test dataset\")\n",
        "plt.legend(loc=\"lower right\")\n",
        "plt.show()"
      ],
      "metadata": {
        "colab": {
          "base_uri": "https://localhost:8080/",
          "height": 295
        },
        "id": "n11kbn7hrqjF",
        "outputId": "fca46550-03f3-4871-ff1d-50ec1d7c1b0a"
      },
      "execution_count": 14,
      "outputs": [
        {
          "output_type": "display_data",
          "data": {
            "text/plain": [
              "<Figure size 432x288 with 1 Axes>"
            ],
            "image/png": "[encoded data removed]"
          },
          "metadata": {
            "needs_background": "light"
          }
        }
      ]
    }
  ]
}